{
 "cells": [
  {
   "attachments": {},
   "cell_type": "markdown",
   "metadata": {},
   "source": [
    "## 350 两个数组的交集2\n",
    "<img src=\"images/350.png\" width=\"60%\">"
   ]
  },
  {
   "cell_type": "code",
   "execution_count": 9,
   "metadata": {},
   "outputs": [],
   "source": [
    "# 350.两个数组的交集\n",
    "\n",
    "nums1 = [1,2,2,1]\n",
    "nums2 = [2,2]\n",
    "\n",
    "def intersect(nums1, nums2):\n",
    "    \"\"\"\n",
    "    :type nums1: List[int]\n",
    "    :type nums2: List[int]\n",
    "    :rtype: List[int]\n",
    "    \"\"\"\n",
    "    inter = set(nums1) & set(nums2)\n",
    "    res = []\n",
    "    for i in inter:\n",
    "        res += [i] * min(nums1.count(i),nums2.count(i))\n",
    "        \n",
    "    return res"
   ]
  },
  {
   "cell_type": "markdown",
   "metadata": {},
   "source": [
    "### Tips\n",
    "\n",
    "* `set`的使用，可以对列表快速去重\n",
    "* `count`的使用，取得交集后还需要计算重复元素的个数"
   ]
  },
  {
   "cell_type": "code",
   "execution_count": 31,
   "metadata": {},
   "outputs": [],
   "source": [
    "import collections\n",
    "def intersect(nums1, nums2):\n",
    "    \"\"\"\n",
    "    :type nums1: List[int]\n",
    "    :type nums2: List[int]\n",
    "    :rtype: List[int]\n",
    "    \"\"\"\n",
    "    num1 = collections.Counter(nums1)\n",
    "    num2 = collections.Counter(nums2)\n",
    "    num = num1 & num2\n",
    "    return list(num.elements())"
   ]
  },
  {
   "cell_type": "markdown",
   "metadata": {},
   "source": [
    "### Tips\n",
    "* collections模块中Counter对象的使用，可以使用数学运算符进行计数器的加减，也可以使用`elements()`方法返回此列表"
   ]
  },
  {
   "attachments": {},
   "cell_type": "markdown",
   "metadata": {},
   "source": [
    "## 237 删除链表中的节点\n",
    "<img src=\"images/237.png\" width=\"60%\">"
   ]
  },
  {
   "cell_type": "code",
   "execution_count": 34,
   "metadata": {},
   "outputs": [],
   "source": [
    "# 237 删除链表中的节点\n",
    "\n",
    "# Definition for singly-linked list.\n",
    "class ListNode(object):\n",
    "    def __init__(self, x):\n",
    "        self.val = x\n",
    "        self.next = None\n",
    "\n",
    "\n",
    "def deleteNode(self, node):\n",
    "    \"\"\"\n",
    "    :type node: ListNode\n",
    "    :rtype: void Do not return anything, modify node in-place instead.\n",
    "    \"\"\"\n",
    "    node.val = node.next.val\n",
    "    node.next = node.next.next"
   ]
  },
  {
   "cell_type": "markdown",
   "metadata": {},
   "source": [
    "### Tips\n",
    "* 不能直接使用`next = node.next`，因为这样只是相当于简单的浅拷贝了对象，原始链表没有任何变化"
   ]
  },
  {
   "attachments": {},
   "cell_type": "markdown",
   "metadata": {},
   "source": [
    "## 104.二叉树的最大深度\n",
    "<img src=\"images/104.png\" width=\"60%\">"
   ]
  },
  {
   "cell_type": "code",
   "execution_count": null,
   "metadata": {},
   "outputs": [],
   "source": [
    "# 104.二叉树的最大深度\n",
    "\n",
    "# Definition for a binary tree node.\n",
    "class TreeNode(object):\n",
    "    def __init__(self, x):\n",
    "        self.val = x\n",
    "        self.left = None\n",
    "        self.right = None\n",
    "\n",
    "class Solution(object):\n",
    "    def maxDepth(self, root):\n",
    "        \"\"\"\n",
    "        :type root: TreeNode\n",
    "        :rtype: int\n",
    "        \"\"\"\n",
    "        if root is None:\n",
    "            return 0\n",
    "        \n",
    "        else:\n",
    "            left_height = self.maxDepth(root.left)\n",
    "            right_height = self.maxDepth(root.right)\n",
    "        \n",
    "        return max(left_height,right_height) + 1"
   ]
  },
  {
   "cell_type": "markdown",
   "metadata": {},
   "source": [
    "### Tips\n",
    "* 使用递归\n",
    "* 当递归到节点的时候，返回0"
   ]
  },
  {
   "attachments": {},
   "cell_type": "markdown",
   "metadata": {},
   "source": [
    "## 108.将有序数组转换为二叉搜索树\n",
    "<img src=\"images/108.png\" width=\"60%\">"
   ]
  },
  {
   "cell_type": "code",
   "execution_count": 90,
   "metadata": {},
   "outputs": [],
   "source": [
    "# 108.将有序数组转换为二叉搜索树\n",
    "# Definition for a binary tree node.\n",
    "test = [-10,-3,0,5,9]\n",
    "\n",
    "class TreeNode(object):\n",
    "    def __init__(self, x):\n",
    "        self.val = x\n",
    "        self.left = None\n",
    "        self.right = None\n",
    "\n",
    "\n",
    "def sortedArrayToBST(nums):\n",
    "    \"\"\"\n",
    "    :type nums: List[int]\n",
    "    :rtype: TreeNode\n",
    "    \"\"\"\n",
    "    length = len(nums)\n",
    "    \n",
    "    if length == 0:\n",
    "        return None\n",
    "    \n",
    "    \n",
    "    # 遇到偶数择中间偏右为根节点\n",
    "    mid = length // 2\n",
    "    root = TreeNode(nums[mid])\n",
    "    root.left = sortedArrayToBST(nums[0 : length // 2])\n",
    "    root.right = sortedArrayToBST(nums[length // 2 + 1 :])\n",
    "    \n",
    "    return root\n",
    "    "
   ]
  },
  {
   "cell_type": "markdown",
   "metadata": {},
   "source": [
    "### TIPS\n",
    "* 递归，遇到偶数长度，可以选择中偏左，也可以选择中偏右\n",
    "* 利用Python列表切片左闭右开特性，`a[0:0] is None` `a[max_len:max_len] is None`"
   ]
  },
  {
   "attachments": {},
   "cell_type": "markdown",
   "metadata": {},
   "source": [
    "## 344.反转字符串\n",
    "<img src=\"images/344.png\" width=\"60%\">"
   ]
  },
  {
   "cell_type": "code",
   "execution_count": 98,
   "metadata": {},
   "outputs": [],
   "source": [
    "# 344.反转字符串\n",
    "def reverseString(self, s):\n",
    "    \"\"\"\n",
    "    :type s: List[str]\n",
    "    :rtype: None Do not return anything, modify s in-place instead.\n",
    "    \"\"\"\n",
    "\n",
    "    for i in range(len(s) // 2):\n",
    "        stack = s[i]\n",
    "        s[i] = s[len(s) - i - 1]\n",
    "        s[len(s) - i - 1] = stack"
   ]
  },
  {
   "cell_type": "markdown",
   "metadata": {},
   "source": [
    "### TIPS\n",
    "* 可以使用双指针利用`while`循环"
   ]
  },
  {
   "attachments": {},
   "cell_type": "markdown",
   "metadata": {},
   "source": [
    "## 206.反转链表\n",
    "<img src=\"images/206.png\" width=\"60%\">"
   ]
  },
  {
   "cell_type": "code",
   "execution_count": 1,
   "metadata": {},
   "outputs": [],
   "source": [
    "# 206.反转链表\n",
    "# 迭代\n",
    "# Definition for singly-linked list.\n",
    "class ListNode(object):\n",
    "    def __init__(self, x):\n",
    "        self.val = x\n",
    "        self.next = None\n",
    "\n",
    "class Solution(object):\n",
    "    def reverseList(self, head):\n",
    "        \"\"\"\n",
    "        :type head: ListNode\n",
    "        :rtype: ListNode\n",
    "        \"\"\"\n",
    "        pre = None\n",
    "        cur = head\n",
    "        \n",
    "        while cur:\n",
    "            # 备份当前节点下一个节点\n",
    "            stack = cur.next\n",
    "            # 当前节点转向\n",
    "            cur.next = pre\n",
    "            # 前一节点前进\n",
    "            pre = cur\n",
    "            # 当前节点前进\n",
    "            cur = stack\n",
    "            \n",
    "        return pre\n",
    "            "
   ]
  },
  {
   "cell_type": "markdown",
   "metadata": {},
   "source": [
    "### Tips\n",
    "* 需要使用三指针\n",
    "* 迭代从前往后，递归从后往前"
   ]
  },
  {
   "cell_type": "code",
   "execution_count": null,
   "metadata": {},
   "outputs": [],
   "source": [
    "# 递归\n",
    "class Solution(object):\n",
    "    def reverseList(self, head):\n",
    "        \"\"\"\n",
    "        :type head: ListNode\n",
    "        :rtype: ListNode\n",
    "        \"\"\"\n",
    "        if head and head.next:\n",
    "            cur = head\n",
    "            pre = None\n",
    "\n",
    "            while cur.next:\n",
    "                pre = cur\n",
    "                cur = cur.next\n",
    "\n",
    "            tmp = cur\n",
    "            pre.next = None\n",
    "            cur.next = self.reverseList(head)\n",
    "        \n",
    "            return tmp\n",
    "        \n",
    "        else:\n",
    "            return head"
   ]
  },
  {
   "cell_type": "markdown",
   "metadata": {},
   "source": [
    "## Tips\n",
    "* 需要双指针\n",
    "* 递归至只有一个元素的时候停止"
   ]
  },
  {
   "cell_type": "code",
   "execution_count": null,
   "metadata": {},
   "outputs": [],
   "source": []
  }
 ],
 "metadata": {
  "kernelspec": {
   "display_name": "Python 3",
   "language": "python",
   "name": "python3"
  },
  "language_info": {
   "codemirror_mode": {
    "name": "ipython",
    "version": 3
   },
   "file_extension": ".py",
   "mimetype": "text/x-python",
   "name": "python",
   "nbconvert_exporter": "python",
   "pygments_lexer": "ipython3",
   "version": "3.6.10"
  }
 },
 "nbformat": 4,
 "nbformat_minor": 4
}
