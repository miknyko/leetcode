{
 "cells": [
  {
   "cell_type": "markdown",
   "metadata": {},
   "source": [
    "## 350 两个数组的交集2\n",
    "<img src=\"images/350.png\" width=\"60%\">"
   ]
  },
  {
   "cell_type": "code",
   "execution_count": 9,
   "metadata": {},
   "outputs": [],
   "source": [
    "# 350.两个数组的交集\n",
    "\n",
    "nums1 = [1,2,2,1]\n",
    "nums2 = [2,2]\n",
    "\n",
    "def intersect(nums1, nums2):\n",
    "    \"\"\"\n",
    "    :type nums1: List[int]\n",
    "    :type nums2: List[int]\n",
    "    :rtype: List[int]\n",
    "    \"\"\"\n",
    "    inter = set(nums1) & set(nums2)\n",
    "    res = []\n",
    "    for i in inter:\n",
    "        res += [i] * min(nums1.count(i),nums2.count(i))\n",
    "        \n",
    "    return res"
   ]
  },
  {
   "cell_type": "markdown",
   "metadata": {},
   "source": [
    "### Tips\n",
    "\n",
    "* `set`的使用，可以对列表快速去重\n",
    "* `count`的使用，取得交集后还需要计算重复元素的个数"
   ]
  },
  {
   "cell_type": "code",
   "execution_count": 31,
   "metadata": {},
   "outputs": [],
   "source": [
    "import collections\n",
    "def intersect(nums1, nums2):\n",
    "    \"\"\"\n",
    "    :type nums1: List[int]\n",
    "    :type nums2: List[int]\n",
    "    :rtype: List[int]\n",
    "    \"\"\"\n",
    "    num1 = collections.Counter(nums1)\n",
    "    num2 = collections.Counter(nums2)\n",
    "    num = num1 & num2\n",
    "    return list(num.elements())"
   ]
  },
  {
   "cell_type": "markdown",
   "metadata": {},
   "source": [
    "### Tips\n",
    "* collections模块中Counter对象的使用，可以使用数学运算符进行计数器的加减，也可以使用`elements()`方法返回此列表"
   ]
  },
  {
   "cell_type": "markdown",
   "metadata": {},
   "source": [
    "## 237 删除链表中的节点\n",
    "<img src=\"images/237.png\" width=\"60%\">"
   ]
  },
  {
   "cell_type": "code",
   "execution_count": 34,
   "metadata": {},
   "outputs": [],
   "source": [
    "# 237 删除链表中的节点\n",
    "\n",
    "# Definition for singly-linked list.\n",
    "class ListNode(object):\n",
    "    def __init__(self, x):\n",
    "        self.val = x\n",
    "        self.next = None\n",
    "\n",
    "\n",
    "def deleteNode(self, node):\n",
    "    \"\"\"\n",
    "    :type node: ListNode\n",
    "    :rtype: void Do not return anything, modify node in-place instead.\n",
    "    \"\"\"\n",
    "    node.val = node.next.val\n",
    "    node.next = node.next.next"
   ]
  },
  {
   "cell_type": "markdown",
   "metadata": {},
   "source": [
    "### Tips\n",
    "* 不能直接使用`next = node.next`，因为这样只是相当于简单的浅拷贝了对象，原始链表没有任何变化"
   ]
  },
  {
   "cell_type": "markdown",
   "metadata": {},
   "source": [
    "## 104.二叉树的最大深度\n",
    "<img src=\"images/104.png\" width=\"60%\">"
   ]
  },
  {
   "cell_type": "code",
   "execution_count": null,
   "metadata": {},
   "outputs": [],
   "source": [
    "# 104.二叉树的最大深度\n",
    "\n",
    "# Definition for a binary tree node.\n",
    "class TreeNode(object):\n",
    "    def __init__(self, x):\n",
    "        self.val = x\n",
    "        self.left = None\n",
    "        self.right = None\n",
    "\n",
    "class Solution(object):\n",
    "    def maxDepth(self, root):\n",
    "        \"\"\"\n",
    "        :type root: TreeNode\n",
    "        :rtype: int\n",
    "        \"\"\"\n",
    "        if root is None:\n",
    "            return 0\n",
    "        \n",
    "        else:\n",
    "            left_height = self.maxDepth(root.left)\n",
    "            right_height = self.maxDepth(root.right)\n",
    "        \n",
    "        return max(left_height,right_height) + 1"
   ]
  },
  {
   "cell_type": "markdown",
   "metadata": {},
   "source": [
    "### Tips\n",
    "* 使用递归\n",
    "* 当递归到节点的时候，返回0"
   ]
  },
  {
   "cell_type": "markdown",
   "metadata": {},
   "source": [
    "## 108.将有序数组转换为二叉搜索树\n",
    "<img src=\"images/108.png\" width=\"60%\">"
   ]
  },
  {
   "cell_type": "code",
   "execution_count": 90,
   "metadata": {},
   "outputs": [],
   "source": [
    "# 108.将有序数组转换为二叉搜索树\n",
    "# Definition for a binary tree node.\n",
    "test = [-10,-3,0,5,9]\n",
    "\n",
    "class TreeNode(object):\n",
    "    def __init__(self, x):\n",
    "        self.val = x\n",
    "        self.left = None\n",
    "        self.right = None\n",
    "\n",
    "\n",
    "def sortedArrayToBST(nums):\n",
    "    \"\"\"\n",
    "    :type nums: List[int]\n",
    "    :rtype: TreeNode\n",
    "    \"\"\"\n",
    "    length = len(nums)\n",
    "    \n",
    "    if length == 0:\n",
    "        return None\n",
    "    \n",
    "    \n",
    "    # 遇到偶数择中间偏右为根节点\n",
    "    mid = length // 2\n",
    "    root = TreeNode(nums[mid])\n",
    "    root.left = sortedArrayToBST(nums[0 : length // 2])\n",
    "    root.right = sortedArrayToBST(nums[length // 2 + 1 :])\n",
    "    \n",
    "    return root\n",
    "    "
   ]
  },
  {
   "cell_type": "markdown",
   "metadata": {},
   "source": [
    "### TIPS\n",
    "* 递归，遇到偶数长度，可以选择中偏左，也可以选择中偏右\n",
    "* 利用Python列表切片左闭右开特性，`a[0:0] is None` `a[max_len:max_len] is None`"
   ]
  },
  {
   "cell_type": "markdown",
   "metadata": {},
   "source": [
    "## 344.反转字符串\n",
    "<img src=\"images/344.png\" width=\"60%\">"
   ]
  },
  {
   "cell_type": "code",
   "execution_count": 98,
   "metadata": {},
   "outputs": [],
   "source": [
    "# 344.反转字符串\n",
    "def reverseString(self, s):\n",
    "    \"\"\"\n",
    "    :type s: List[str]\n",
    "    :rtype: None Do not return anything, modify s in-place instead.\n",
    "    \"\"\"\n",
    "\n",
    "    for i in range(len(s) // 2):\n",
    "        stack = s[i]\n",
    "        s[i] = s[len(s) - i - 1]\n",
    "        s[len(s) - i - 1] = stack"
   ]
  },
  {
   "cell_type": "markdown",
   "metadata": {},
   "source": [
    "### TIPS\n",
    "* 可以使用双指针利用`while`循环"
   ]
  },
  {
   "cell_type": "markdown",
   "metadata": {},
   "source": [
    "## 206.反转链表\n",
    "<img src=\"images/206.png\" width=\"60%\">"
   ]
  },
  {
   "cell_type": "code",
   "execution_count": 1,
   "metadata": {},
   "outputs": [],
   "source": [
    "# 206.反转链表\n",
    "# 迭代\n",
    "# Definition for singly-linked list.\n",
    "class ListNode(object):\n",
    "    def __init__(self, x):\n",
    "        self.val = x\n",
    "        self.next = None\n",
    "\n",
    "class Solution(object):\n",
    "    def reverseList(self, head):\n",
    "        \"\"\"\n",
    "        :type head: ListNode\n",
    "        :rtype: ListNode\n",
    "        \"\"\"\n",
    "        pre = None\n",
    "        cur = head\n",
    "        \n",
    "        while cur:\n",
    "            # 备份当前节点下一个节点\n",
    "            stack = cur.next\n",
    "            # 当前节点转向\n",
    "            cur.next = pre\n",
    "            # 前一节点前进\n",
    "            pre = cur\n",
    "            # 当前节点前进\n",
    "            cur = stack\n",
    "            \n",
    "        return pre\n",
    "            "
   ]
  },
  {
   "cell_type": "markdown",
   "metadata": {},
   "source": [
    "### Tips\n",
    "* 需要使用三指针\n",
    "* 迭代从前往后，递归从后往前"
   ]
  },
  {
   "cell_type": "code",
   "execution_count": null,
   "metadata": {},
   "outputs": [],
   "source": [
    "# 递归\n",
    "class Solution(object):\n",
    "    def reverseList(self, head):\n",
    "        \"\"\"\n",
    "        :type head: ListNode\n",
    "        :rtype: ListNode\n",
    "        \"\"\"\n",
    "        if head and head.next:\n",
    "            cur = head\n",
    "            pre = None\n",
    "\n",
    "            while cur.next:\n",
    "                pre = cur\n",
    "                cur = cur.next\n",
    "\n",
    "            tmp = cur\n",
    "            pre.next = None\n",
    "            cur.next = self.reverseList(head)\n",
    "        \n",
    "            return tmp\n",
    "        \n",
    "        else:\n",
    "            return head"
   ]
  },
  {
   "cell_type": "markdown",
   "metadata": {},
   "source": [
    "## Tips\n",
    "* 需要双指针\n",
    "* 递归至只有一个元素的时候停止"
   ]
  },
  {
   "cell_type": "markdown",
   "metadata": {},
   "source": [
    "## 136.只出现一次的数字\n",
    "<img src=\"images/136.png\" width=\"60%\">"
   ]
  },
  {
   "cell_type": "code",
   "execution_count": 4,
   "metadata": {},
   "outputs": [],
   "source": [
    "# 136.只出现一次的数字\n",
    "\n",
    "def singleNumber(nums):\n",
    "    \"\"\"\n",
    "    :type nums: List[int]\n",
    "    :rtype: int\n",
    "    \"\"\"\n",
    "    res = nums[0]\n",
    "    for i in range(len(nums) - 1):\n",
    "        res = res ^ nums[i + 1] \n",
    "\n",
    "    return res"
   ]
  },
  {
   "cell_type": "markdown",
   "metadata": {},
   "source": [
    "### Tips\n",
    "* 使用位运算最为快捷，不占用额外空间\n",
    "* `a ^ a = 0` `a ^ 0 = a`\n",
    "* 位运算满足结合律交换律"
   ]
  },
  {
   "cell_type": "markdown",
   "metadata": {},
   "source": [
    "## 191.位1的个数\n",
    "<img src=\"images/191.png\" width=\"60%\">"
   ]
  },
  {
   "cell_type": "code",
   "execution_count": null,
   "metadata": {},
   "outputs": [],
   "source": [
    "# 191.位1的个数\n",
    "\n",
    "class Solution(object):\n",
    "    def hammingWeight(self, n):\n",
    "        \"\"\"\n",
    "        :type n: int\n",
    "        :rtype: int\n",
    "        \"\"\"\n",
    "        count = 0\n",
    "        while n != 0:\n",
    "            n = n & (n - 1)\n",
    "            count += 1\n",
    "            \n",
    "        return count"
   ]
  },
  {
   "cell_type": "markdown",
   "metadata": {},
   "source": [
    "### Tips\n",
    "* 技巧：n与n-1与运算可以让n的最后一位1变为0\n",
    "* 计数n变了多少次就成为0，就可以知道n有多少个1"
   ]
  },
  {
   "cell_type": "markdown",
   "metadata": {},
   "source": [
    "## 171. Excel表列序号\n",
    "<img src=\"images/171.png\" width=\"60%\">"
   ]
  },
  {
   "cell_type": "code",
   "execution_count": 11,
   "metadata": {},
   "outputs": [],
   "source": [
    "# 171.Excel 表列序号\n",
    "\n",
    "class Solution(object):\n",
    "    def titleToNumber(self, s):\n",
    "        \"\"\"\n",
    "        :type s: str\n",
    "        :rtype: int\n",
    "        \"\"\"\n",
    "        res = 0\n",
    "        num = 0\n",
    "        for l in s[::-1]:\n",
    "            count = (ord(l) - ord('A') + 1) * (26**num)\n",
    "            res += count\n",
    "            num += 1\n",
    "            \n",
    "        return res\n",
    "            "
   ]
  },
  {
   "cell_type": "markdown",
   "metadata": {},
   "source": [
    "### Tips\n",
    "* 相当于进制转换，26进制转10进制\n",
    "* 倒序遍历字符串"
   ]
  },
  {
   "cell_type": "markdown",
   "metadata": {},
   "source": [
    "## 118.杨辉三角\n",
    "<img src=\"images/118.png\" width=\"60%\">"
   ]
  },
  {
   "cell_type": "code",
   "execution_count": 48,
   "metadata": {},
   "outputs": [],
   "source": [
    "# 118.杨辉三角\n",
    "\n",
    "class Solution(object):\n",
    "    def generate(self, numRows):\n",
    "        \"\"\"\n",
    "        :type numRows: int\n",
    "        :rtype: List[List[int]]\n",
    "        \"\"\"\n",
    "        res = [[1]]\n",
    "\n",
    "        if numRows == 0:\n",
    "            return []\n",
    "\n",
    "        for i in range(2, numRows + 1):\n",
    "            # 从第二行开始，初始化第i行\n",
    "            row = [None] * i\n",
    "            # 首尾两元素赋值1\n",
    "            row[0], row[-1] = 1, 1\n",
    "            # 当前行从第二位开始赋值\n",
    "            for j in range(0,i - 2):\n",
    "                # 该行第j个元素为上一行第j元素与j-1元素之和\n",
    "                row[j + 1] = res[-1][j] + res[-1][j + 1]\n",
    "            res.append(row)\n",
    "        return res"
   ]
  },
  {
   "cell_type": "markdown",
   "metadata": {},
   "source": [
    "### Tips\n",
    "* 动态规划，注意下标\n",
    "* 注意0和1的时候单独列出\n",
    "* 其实第n行等于第n - 1行首尾各加0之后再相加(优化解法)"
   ]
  },
  {
   "cell_type": "markdown",
   "metadata": {},
   "source": [
    "## 412.Fizz Buzz\n",
    "<img src=\"images/412.png\" width=\"60%\">"
   ]
  },
  {
   "cell_type": "code",
   "execution_count": 66,
   "metadata": {},
   "outputs": [],
   "source": [
    "# 412.Fizz Buzz\n",
    "\n",
    "\n",
    "def fizzBuzz(n):\n",
    "    \"\"\"\n",
    "    :type n: int\n",
    "    :rtype: List[str]\n",
    "    \"\"\"\n",
    "    data = {'3':'Fizz','5':'Buzz'}\n",
    "\n",
    "    res = []\n",
    "\n",
    "    for i in range(1, n + 1):\n",
    "        ans = ''\n",
    "        for key in data.keys():\n",
    "            if i % int(key) == 0:\n",
    "                print(key)\n",
    "                ans += data[key]\n",
    "\n",
    "        res.append(ans) if ans else res.append(str(i))\n",
    "\n",
    "    return res\n",
    "\n",
    "            "
   ]
  },
  {
   "cell_type": "markdown",
   "metadata": {},
   "source": [
    "### Tips\n",
    "* 采用字典的方式，以后可以方便的修改规则"
   ]
  },
  {
   "cell_type": "markdown",
   "metadata": {},
   "source": [
    "## 169.多数元素\n",
    "<img src=\"images/169.png\" width=\"60%\">"
   ]
  },
  {
   "cell_type": "code",
   "execution_count": 68,
   "metadata": {},
   "outputs": [],
   "source": [
    "# 169.多数元素\n",
    "# 摩尔投票法\n",
    "import random\n",
    "\n",
    "class Solution(object):\n",
    "    def majorityElement(self, nums):\n",
    "        \"\"\"\n",
    "        :type nums: List[int]\n",
    "        :rtype: int\n",
    "        \"\"\"\n",
    "        count = 0\n",
    "        candidate = random.choice(nums)\n",
    "        for i in nums:\n",
    "            if count == 0:\n",
    "                candidate = i\n",
    "            if candidate == i:\n",
    "                count += 1\n",
    "            elif candidate != i:\n",
    "                count -= 1\n",
    "            \n",
    "        return candidate\n"
   ]
  },
  {
   "cell_type": "markdown",
   "metadata": {},
   "source": [
    "### Tips.\n",
    "* 遇到相同元素count加1，否则减1，count到0换候选\n",
    "* 还可以使用分治法，字典法"
   ]
  },
  {
   "cell_type": "markdown",
   "metadata": {},
   "source": [
    "## 21.合并两个有序链表\n",
    "<img src=\"images/21.png\" width=\"60%\">"
   ]
  },
  {
   "cell_type": "code",
   "execution_count": 69,
   "metadata": {},
   "outputs": [],
   "source": [
    "# 合并两个有序链表\n",
    "# Definition for singly-linked list.\n",
    "\n",
    "class ListNode(object):\n",
    "    def __init__(self, val=0, next=None):\n",
    "        self.val = val\n",
    "        self.next = next\n",
    "\n",
    "# 递归\n",
    "\n",
    "class Solution(object):\n",
    "    def mergeTwoLists(self, l1, l2):\n",
    "        \"\"\"\n",
    "        :type l1: ListNode\n",
    "        :type l2: ListNode\n",
    "        :rtype: ListNode\n",
    "        \"\"\"\n",
    "        if not l1:\n",
    "            return l2\n",
    "        \n",
    "        if not l2:\n",
    "            return l1\n",
    "        \n",
    "        if l1.val <= l2.val:\n",
    "            head = ListNode(val=l1.val, next=self.mergeTwoLists(l1.next,l2))\n",
    "\n",
    "        else:\n",
    "            head = ListNode(val=l2.val,next=self.mergeTwoLists(l2.next,l1))\n",
    "        \n",
    "        return head"
   ]
  },
  {
   "cell_type": "markdown",
   "metadata": {},
   "source": [
    "### Tips\n",
    "* 递归注意边界条件，当某链已空，停止递归"
   ]
  },
  {
   "cell_type": "code",
   "execution_count": 70,
   "metadata": {},
   "outputs": [],
   "source": [
    "# 迭代\n",
    "\n",
    "class ListNode(object):\n",
    "    def __init__(self, val=0, next=None):\n",
    "        self.val = val\n",
    "        self.next = next\n",
    "\n",
    "\n",
    "def mergeTwoLists(l1,l2):\n",
    "        \"\"\"\n",
    "        :type l1: ListNode\n",
    "        :type l2: ListNode\n",
    "        :rtype: ListNode\n",
    "        \"\"\"\n",
    "        prehead = ListNode(-1)\n",
    "        \n",
    "        cur = prehead\n",
    "        \n",
    "        while l1 and l2:\n",
    "            # 哪边小，就接哪边\n",
    "            if l1.val <= l2.val:\n",
    "                cur.next = l1\n",
    "                l1 = l1.next\n",
    "            else:\n",
    "                cur.next = l2\n",
    "                l2 = l2.next\n",
    "            # cur需要往前移动一位\n",
    "            \n",
    "            cur = cur.next\n",
    "        \n",
    "        cur.next = l1 if l1 else l2\n",
    "        \n",
    "        return prehead.next            "
   ]
  },
  {
   "cell_type": "markdown",
   "metadata": {},
   "source": [
    "### Tips.\n",
    "* 需要十分清晰的明白迭代的每一个步骤\n",
    "* 单指针，并且注意需要构造一个初始的辅助Head"
   ]
  },
  {
   "cell_type": "markdown",
   "metadata": {},
   "source": [
    "## 13.罗马数字转整数\n",
    "<img src=\"images/13.png\" width=\"60%\">"
   ]
  },
  {
   "cell_type": "code",
   "execution_count": 71,
   "metadata": {},
   "outputs": [],
   "source": [
    "# 13.罗马数字转整数\n",
    "\n",
    "class Solution(object):\n",
    "    def romanToInt(self, s):\n",
    "        \"\"\"\n",
    "        :type s: str\n",
    "        :rtype: int\n",
    "        \"\"\"\n",
    "        data = {\n",
    "            'I':1,\n",
    "            'V':5,\n",
    "            'X':10,\n",
    "            'L':50,\n",
    "            'C':100,\n",
    "            'D':500,\n",
    "            'M':1000\n",
    "        }\n",
    "        order = {\n",
    "            'I':['V','X'],\n",
    "            'X':['L','C'],\n",
    "            'C':['D','M']\n",
    "        }\n",
    "\n",
    "        res = 0\n",
    "\n",
    "        for i in range(len(s)):\n",
    "            # 如果是最后一位，直接忽略\n",
    "            if i == len(s) - 1:\n",
    "                res += data[s[i]]\n",
    "            else:\n",
    "                # 符合左减规则\n",
    "                if s[i] in order.keys() and s[i + 1] in order[s[i]]:\n",
    "                    res -= data[s[i]]\n",
    "                else:\n",
    "                    res += data[s[i]]\n",
    "        return res\n",
    "            "
   ]
  },
  {
   "cell_type": "markdown",
   "metadata": {},
   "source": [
    "### Tips\n",
    "* 注意左减规则"
   ]
  },
  {
   "cell_type": "markdown",
   "metadata": {},
   "source": [
    "## 283.移动零\n",
    "<img src=\"images/283.png\" width=\"60%\">"
   ]
  },
  {
   "cell_type": "code",
   "execution_count": 72,
   "metadata": {},
   "outputs": [],
   "source": [
    "# 283.移动零\n",
    "\n",
    "class Solution(object):\n",
    "    def moveZeroes(self, nums):\n",
    "        \"\"\"\n",
    "        :type nums: List[int]\n",
    "        :rtype: None Do not return anything, modify nums in-place instead.\n",
    "        \"\"\"\n",
    "        count = 0\n",
    "        \n",
    "        for i in range(len(nums)):\n",
    "            if nums[i] != 0:\n",
    "                tmp = nums[i]\n",
    "                nums[i] = nums[count]\n",
    "                nums[count] = tmp\n",
    "                count += 1\n",
    "                "
   ]
  },
  {
   "cell_type": "markdown",
   "metadata": {},
   "source": [
    "### Tips\n",
    "* 双指针"
   ]
  },
  {
   "cell_type": "markdown",
   "metadata": {},
   "source": [
    "## 122.买卖股票的最佳时机\n",
    "<img src=\"images/122.png\" width=\"60%\">"
   ]
  },
  {
   "cell_type": "code",
   "execution_count": 73,
   "metadata": {},
   "outputs": [],
   "source": [
    "# 122.买卖股票的最佳时机\n",
    "\n",
    "class Solution(object):\n",
    "    def maxProfit(self, prices):\n",
    "        \"\"\"\n",
    "        :type prices: List[int]\n",
    "        :rtype: int\n",
    "        \"\"\"\n",
    "        benifit = [prices[i] - prices[i - 1] for i in range(1, len(prices))]\n",
    "        res = 0\n",
    "        for day in benifit:\n",
    "            if day > 0:\n",
    "                res += day\n",
    "\n",
    "        return res\n"
   ]
  },
  {
   "cell_type": "markdown",
   "metadata": {},
   "source": [
    "### Tips\n",
    "* 等价于每天都买卖。。"
   ]
  },
  {
   "cell_type": "markdown",
   "metadata": {},
   "source": [
    "## 242.有效的字母异位词\n",
    "<img src=\"images/242.png\" width=\"60%\">"
   ]
  },
  {
   "cell_type": "code",
   "execution_count": 74,
   "metadata": {},
   "outputs": [],
   "source": [
    "# 242 有效的字母异位词\n",
    "import collections\n",
    "class Solution(object):\n",
    "    def isAnagram(self, s, t):\n",
    "        \"\"\"\n",
    "        :type s: str\n",
    "        :type t: str\n",
    "        :rtype: bool\n",
    "        \"\"\"\n",
    "        if len(s) != len(t):\n",
    "            return False\n",
    "        table = collections.defaultdict(int)\n",
    "        for i in range(len(s)):\n",
    "            table[s[i]] += 1\n",
    "            table[t[i]] -= 1\n",
    "            \n",
    "        for v in table.values():\n",
    "            if v:\n",
    "                return False\n",
    "        \n",
    "        return True"
   ]
  },
  {
   "cell_type": "markdown",
   "metadata": {},
   "source": [
    "### Tips\n",
    "* 注意只需要使用一个字典，一个字符串加，一个字符串减\n",
    "* 还可以排序之后判断是否相等"
   ]
  },
  {
   "cell_type": "markdown",
   "metadata": {},
   "source": [
    "## 202.快乐数\n",
    "<img src=\"images/202.png\" width=\"60%\">"
   ]
  },
  {
   "cell_type": "code",
   "execution_count": null,
   "metadata": {},
   "outputs": [],
   "source": [
    "# 202.快乐数\n",
    "class Solution(object):\n",
    "    def getNext(self, n):\n",
    "        sum = 0\n",
    "        value = n\n",
    "        while value:\n",
    "            value, r = divmod(value, 10)\n",
    "            sum += r**2\n",
    "        return sum\n",
    "\n",
    "    def isHappy(self, n):\n",
    "        \"\"\"\n",
    "        :type n: int\n",
    "        :rtype: bool\n",
    "        \"\"\"\n",
    "        rec = []\n",
    "        value = n\n",
    "        while value != 1:\n",
    "            rec.append(value)\n",
    "            value = self.getNext(value)\n",
    "            if value in rec:\n",
    "                return False\n",
    "            \n",
    "        return True"
   ]
  },
  {
   "cell_type": "markdown",
   "metadata": {},
   "source": [
    "### Tips\n",
    "* 注意，大于243的数最后都会塌缩至243以内，陷入循环，或者归于1"
   ]
  },
  {
   "cell_type": "markdown",
   "metadata": {},
   "source": [
    "## 190.颠倒二进制位\n",
    "<img src=\"images/190.png\" width=\"60%\">"
   ]
  },
  {
   "cell_type": "code",
   "execution_count": 75,
   "metadata": {},
   "outputs": [],
   "source": [
    "# 190.颠倒二进制位\n",
    "\n",
    "class Solution:\n",
    "    # @param n, an integer\n",
    "    # @return an integer\n",
    "    def reverseBits(self, n):\n",
    "        ans = 0\n",
    "        m = 31\n",
    "        while n:\n",
    "            n, r = divmod(n, 2)\n",
    "            ans += r * 2**m\n",
    "            m -= 1\n",
    "            \n",
    "        return ans"
   ]
  },
  {
   "cell_type": "markdown",
   "metadata": {},
   "source": [
    "### Tips\n",
    "* 还可以使用硬编码的形式使用一些特殊数用位运算辅助翻转"
   ]
  },
  {
   "cell_type": "markdown",
   "metadata": {},
   "source": [
    "## 268.缺失数字\n",
    "<img src=\"images/268.png\" width=\"60%\">"
   ]
  },
  {
   "cell_type": "code",
   "execution_count": 76,
   "metadata": {},
   "outputs": [],
   "source": [
    "# 268.缺失数字\n",
    "# 数学方法\n",
    "class Solution(object):\n",
    "    def missingNumber(self, nums):\n",
    "        \"\"\"\n",
    "        :type nums: List[int]\n",
    "        :rtype: int\n",
    "        \"\"\"\n",
    "        return (len(nums) * (len(nums) + 1) / 2) - sum(nums)"
   ]
  },
  {
   "cell_type": "markdown",
   "metadata": {},
   "source": [
    "## Tips\n",
    "* 数学方法，但是有内存溢出风险"
   ]
  },
  {
   "cell_type": "code",
   "execution_count": 77,
   "metadata": {},
   "outputs": [],
   "source": [
    "# 异或运算\n",
    "\n",
    "def missingNumber(nums):\n",
    "    \"\"\"\n",
    "    :type nums: List[int]\n",
    "    :rtype: int\n",
    "    \"\"\" \n",
    "    res = len(nums)\n",
    "    for i, num in enumerate(nums):\n",
    "        res ^= num ^ i\n",
    "        \n",
    "    return res\n"
   ]
  },
  {
   "cell_type": "markdown",
   "metadata": {},
   "source": [
    "### Tips\n",
    "* 异或运算可以消除相同值\n",
    "* `enumerate`范围为(0,...,n-1),所以使用n作为初始值"
   ]
  },
  {
   "cell_type": "code",
   "execution_count": null,
   "metadata": {},
   "outputs": [],
   "source": []
  }
 ],
 "metadata": {
  "kernelspec": {
   "display_name": "Python 3",
   "language": "python",
   "name": "python3"
  },
  "language_info": {
   "codemirror_mode": {
    "name": "ipython",
    "version": 3
   },
   "file_extension": ".py",
   "mimetype": "text/x-python",
   "name": "python",
   "nbconvert_exporter": "python",
   "pygments_lexer": "ipython3",
   "version": "3.6.10"
  }
 },
 "nbformat": 4,
 "nbformat_minor": 4
}
