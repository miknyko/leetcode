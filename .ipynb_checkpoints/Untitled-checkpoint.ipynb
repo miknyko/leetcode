{
 "cells": [
  {
   "cell_type": "code",
   "execution_count": 44,
   "metadata": {},
   "outputs": [],
   "source": [
    "class NestedIterator(object):\n",
    "\n",
    "    def __init__(self, nestedList):\n",
    "        \"\"\"\n",
    "        Initialize your data structure here.\n",
    "        :type nestedList: List[NestedInteger]\n",
    "        \"\"\"\n",
    "        \n",
    "        def toBottom(nested):\n",
    "            if not nested:\n",
    "                return []\n",
    "            res = []\n",
    "            for i in nested:\n",
    "                if type(i).__name__ == 'list':\n",
    "                    res += toBottom(i)\n",
    "                else:\n",
    "                    res.append(i)\n",
    "            return res\n",
    "\n",
    "        self.data = toBottom(nestedList)\n",
    "        self.length = len(self.data)\n",
    "        self.count = 0\n",
    "            \n",
    "        \n",
    "\n",
    "    def next(self):\n",
    "        \"\"\"\n",
    "        :rtype: int\n",
    "        \"\"\"\n",
    "\n",
    "        if self.hasNext:\n",
    "            self.count += 1\n",
    "            return self.data[self.count - 1]\n",
    "            \n",
    "        \n",
    "        \n",
    "\n",
    "    def hasNext(self):\n",
    "        \"\"\"\n",
    "        :rtype: bool\n",
    "        \"\"\"\n",
    "        return self.count < self.length"
   ]
  },
  {
   "cell_type": "code",
   "execution_count": 45,
   "metadata": {},
   "outputs": [],
   "source": [
    "test = [[1,1],2,[1,1]]\n",
    "\n",
    "loader = NestedIterator(test)"
   ]
  },
  {
   "cell_type": "code",
   "execution_count": 50,
   "metadata": {},
   "outputs": [
    {
     "data": {
      "text/plain": [
       "1"
      ]
     },
     "execution_count": 50,
     "metadata": {},
     "output_type": "execute_result"
    }
   ],
   "source": [
    "loader.next()"
   ]
  },
  {
   "cell_type": "code",
   "execution_count": 22,
   "metadata": {},
   "outputs": [
    {
     "name": "stdout",
     "output_type": "stream",
     "text": [
      "[1, 1]\n",
      "1\n",
      "1\n",
      "2\n",
      "[1, 1]\n",
      "1\n",
      "1\n",
      "[1, 1, 2, 1, 1]\n"
     ]
    }
   ],
   "source": [
    "print(toBottom(test))"
   ]
  },
  {
   "cell_type": "code",
   "execution_count": null,
   "metadata": {},
   "outputs": [],
   "source": [
    "type(test).__name__"
   ]
  },
  {
   "cell_type": "code",
   "execution_count": 23,
   "metadata": {},
   "outputs": [],
   "source": [
    "test2 = [1,2,3,4,[1,1]]"
   ]
  },
  {
   "cell_type": "code",
   "execution_count": 24,
   "metadata": {},
   "outputs": [
    {
     "name": "stdout",
     "output_type": "stream",
     "text": [
      "1\n",
      "2\n",
      "3\n",
      "4\n",
      "[1, 1]\n",
      "1\n",
      "1\n",
      "[1, 2, 3, 4, 1, 1]\n"
     ]
    }
   ],
   "source": [
    "print(toBottom(test2))"
   ]
  },
  {
   "cell_type": "code",
   "execution_count": null,
   "metadata": {},
   "outputs": [],
   "source": []
  }
 ],
 "metadata": {
  "kernelspec": {
   "display_name": "Python 3",
   "language": "python",
   "name": "python3"
  },
  "language_info": {
   "codemirror_mode": {
    "name": "ipython",
    "version": 3
   },
   "file_extension": ".py",
   "mimetype": "text/x-python",
   "name": "python",
   "nbconvert_exporter": "python",
   "pygments_lexer": "ipython3",
   "version": "3.6.10"
  }
 },
 "nbformat": 4,
 "nbformat_minor": 4
}
