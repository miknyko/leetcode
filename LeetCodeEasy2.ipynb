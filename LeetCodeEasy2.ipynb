{
 "cells": [
  {
   "cell_type": "markdown",
   "metadata": {},
   "source": [
    "## 38.外观数列\n",
    "<img src=\"images/38.png\" width=\"60%\">"
   ]
  },
  {
   "cell_type": "code",
   "execution_count": 49,
   "metadata": {},
   "outputs": [],
   "source": [
    "# 38 外观数列\n",
    "import collections\n",
    "def countAndSay(n):\n",
    "    \"\"\"\n",
    "    :type n: int\n",
    "    :rtype: str\n",
    "    \"\"\"\n",
    "    \"\"\n",
    "    if n == 1:\n",
    "        return '1'\n",
    "\n",
    "    cur = '1'\n",
    "    count = 1\n",
    "    \n",
    "    while count < n:\n",
    "        nextl = ''\n",
    "        rec = collections.defaultdict(int)\n",
    "        for i in range(len(cur)):\n",
    "            rec[cur[i]] += 1\n",
    "            try:\n",
    "                if cur[i + 1] != cur[i]:\n",
    "                    nextl += str(list(rec.values())[0])\n",
    "                    nextl += str(list(rec.keys())[0])\n",
    "                    rec = collections.defaultdict(int)\n",
    "            except:\n",
    "                nextl += str(list(rec.values())[0])\n",
    "                nextl += str(list(rec.keys())[0])\n",
    "                \n",
    "        cur = nextl\n",
    "        count += 1\n",
    "        \n",
    "    return cur\n"
   ]
  },
  {
   "cell_type": "markdown",
   "metadata": {},
   "source": [
    "### Tips:\n",
    "* 注意迭代的边界条件\n"
   ]
  },
  {
   "cell_type": "markdown",
   "metadata": {},
   "source": [
    "## 160.相交链表\n",
    "<img src=\"images/160-1.png\" width=\"60%\">\n",
    "<img src=\"images/160-2.png\" width=\"60%\">"
   ]
  },
  {
   "cell_type": "code",
   "execution_count": 55,
   "metadata": {},
   "outputs": [],
   "source": [
    "# 相交链表\n",
    "# Definition for singly-linked list.\n",
    "# class ListNode(object):\n",
    "#     def __init__(self, x):\n",
    "#         self.val = x\n",
    "#         self.next = None\n",
    "\n",
    "class Solution(object):\n",
    "    def getIntersectionNode(self, headA, headB):\n",
    "        \"\"\"\n",
    "        :type head1, head1: ListNode\n",
    "        :rtype: ListNode\n",
    "        \"\"\"\n",
    "        pA = headA\n",
    "        pB = headB\n",
    "\n",
    "        while pA != pB:\n",
    "            pA = pA.next if pA else headB\n",
    "            pB = pB.next if pB else headA\n",
    "\n",
    "        return pA"
   ]
  },
  {
   "cell_type": "markdown",
   "metadata": {},
   "source": [
    "### Tips\n",
    "* 注意超时，尽量简化判断"
   ]
  },
  {
   "cell_type": "markdown",
   "metadata": {},
   "source": [
    "## 371.两整数之和\n",
    "<img src=\"images/371.png\" width=\"60%\">"
   ]
  },
  {
   "cell_type": "code",
   "execution_count": 56,
   "metadata": {},
   "outputs": [],
   "source": [
    "# 371两整数之和\n",
    "\n",
    "class Solution(object):\n",
    "    def getSum(self, a, b):\n",
    "        \"\"\"\n",
    "        :type a: int\n",
    "        :type b: int\n",
    "        :rtype: int\n",
    "        \"\"\"\n",
    "        # 2^32\n",
    "        MASK = 0x100000000\n",
    "        # 整型最大值\n",
    "        MAX_INT = 0x7FFFFFFF\n",
    "        MIN_INT = MAX_INT + 1\n",
    "        while b != 0:\n",
    "            # 计算进位\n",
    "            carry = (a & b) << 1 \n",
    "            # 取余范围限制在 [0, 2^32-1] 范围内\n",
    "            a = (a ^ b) % MASK\n",
    "            b = carry % MASK\n",
    "        return a if a <= MAX_INT else ~((a % MIN_INT) ^ MAX_INT)\n"
   ]
  },
  {
   "cell_type": "markdown",
   "metadata": {},
   "source": [
    "### Tips\n",
    "* `a ^ b`低位运算\n",
    "* `(a & b) << 1 `进位运算\n",
    "* 循环直到无需进位"
   ]
  },
  {
   "cell_type": "markdown",
   "metadata": {},
   "source": [
    "## 155.最小栈\n",
    "<img src=\"images/155.png\" width=\"60%\">"
   ]
  },
  {
   "cell_type": "code",
   "execution_count": 58,
   "metadata": {},
   "outputs": [],
   "source": [
    "# 155.最小栈\n",
    "class MinStack(object):\n",
    "\n",
    "    def __init__(self):\n",
    "        \"\"\"\n",
    "        initialize your data structure here.\n",
    "        \"\"\"\n",
    "        self.stack = []\n",
    "\n",
    "\n",
    "    def push(self, x):\n",
    "        \"\"\"\n",
    "        :type x: int\n",
    "        :rtype: None\n",
    "        \"\"\"\n",
    "        self.stack.append(x)\n",
    "\n",
    "    def pop(self):\n",
    "        \"\"\"\n",
    "        :rtype: None\n",
    "        \"\"\"\n",
    "        self.stack.pop(-1)\n",
    "\n",
    "    def top(self):\n",
    "        \"\"\"\n",
    "        :rtype: int\n",
    "        \"\"\"\n",
    "        return self.stack[-1]\n",
    "\n",
    "    def getMin(self):\n",
    "        \"\"\"\n",
    "        :rtype: int\n",
    "        \"\"\"\n",
    "        return min(self.stack)\n",
    "\n",
    "\n",
    "# Your Minself.stack object will be instantiated and called as such:\n",
    "# obj = Minself.stack()\n",
    "# obj.push(x)\n",
    "# obj.pop()\n",
    "# param_3 = obj.top()\n",
    "# param_4 = obj.getMin()"
   ]
  },
  {
   "cell_type": "markdown",
   "metadata": {},
   "source": [
    "### Tips\n",
    "* 注意栈的定义"
   ]
  },
  {
   "cell_type": "markdown",
   "metadata": {},
   "source": [
    "## 121.买卖股票的最佳时机\n",
    "<img src=\"images/121.png\" width=\"60%\">"
   ]
  },
  {
   "cell_type": "code",
   "execution_count": 59,
   "metadata": {},
   "outputs": [],
   "source": [
    "# 121.买卖股票的最佳时机\n",
    "\n",
    "class Solution(object):\n",
    "    def maxProfit(self, prices):\n",
    "        \"\"\"\n",
    "        :type prices: List[int]\n",
    "        :rtype: int\n",
    "        \"\"\"\n",
    "        if not prices:\n",
    "            return 0\n",
    "\n",
    "        minValue = prices[0]\n",
    "        maxProfit = 0\n",
    "\n",
    "        for price in prices:\n",
    "            minValue = min(price, minValue)\n",
    "            maxProfit = max(maxProfit,price - minValue)\n",
    "\n",
    "        return maxProfit"
   ]
  },
  {
   "cell_type": "markdown",
   "metadata": {},
   "source": [
    "### Tips\n",
    "* 维护两个变量，分别记录历史最低股价和有可能的最高利润\n",
    "* 注意初始条件"
   ]
  },
  {
   "cell_type": "markdown",
   "metadata": {},
   "source": [
    "## 217.存在重复元素\n",
    "<img src=\"images/217.png\" width=\"60%\">"
   ]
  },
  {
   "cell_type": "code",
   "execution_count": 60,
   "metadata": {},
   "outputs": [],
   "source": [
    "# 217.存在重复元素\n",
    "class Solution(object):\n",
    "    def containsDuplicate(self, nums):\n",
    "        \"\"\"\n",
    "        :type nums: List[int]\n",
    "        :rtype: bool\n",
    "        \"\"\"\n",
    "        if not nums:\n",
    "            return False\n",
    "\n",
    "        return len(list(set(nums))) != len(nums)"
   ]
  },
  {
   "cell_type": "markdown",
   "metadata": {},
   "source": [
    "### Tips\n",
    "* 可以使用哈希表，排序，暴力法"
   ]
  },
  {
   "cell_type": "markdown",
   "metadata": {},
   "source": [
    "## 101.对称二叉树\n",
    "<img src=\"images/101.png\" width=\"60%\">"
   ]
  },
  {
   "cell_type": "code",
   "execution_count": 63,
   "metadata": {},
   "outputs": [],
   "source": [
    "# 101.对称二叉树\n",
    "\n",
    "# Definition for a binary tree node.\n",
    "# class TreeNode(object):\n",
    "#     def __init__(self, x):\n",
    "#         self.val = x\n",
    "#         self.left = None\n",
    "#         self.right = None\n",
    "\n",
    "# 递归\n",
    "class Solution(object):\n",
    "    def isSymmetric(self, root):\n",
    "        \"\"\"\n",
    "        :type root: TreeNode\n",
    "        :rtype: bool\n",
    "        \"\"\"\n",
    "        if not root:\n",
    "            return True\n",
    "\n",
    "        def isMirrored(rootA, rootB):\n",
    "            # 双指针都达到None\n",
    "            if not rootA and not rootB:\n",
    "                return True\n",
    "            try:\n",
    "                # 若指针都非NONE\n",
    "                if rootA.val == rootB.val:\n",
    "                    flag = isMirrored(rootA.left, rootB.right) and isMirrored(rootA.right,rootB.left)\n",
    "                    if flag:\n",
    "                        return True\n",
    "            except:\n",
    "                # 其中一个指针为None\n",
    "                return False\n",
    "            \n",
    "            return False\n",
    "        \n",
    "        return isMirrored(root.left, root.right)\n"
   ]
  },
  {
   "cell_type": "markdown",
   "metadata": {},
   "source": [
    "### Tips\n",
    "* 双指针，相反方向，往下递归，判断子树是否对称"
   ]
  },
  {
   "cell_type": "code",
   "execution_count": 64,
   "metadata": {},
   "outputs": [],
   "source": [
    "# 迭代\n",
    "\n",
    "class Solution(object):\n",
    "    def isSymmetric(self, root):\n",
    "        \"\"\"\n",
    "        :type root: TreeNode\n",
    "        :rtype: bool\n",
    "        \"\"\"\n",
    "\n",
    "        if not root:\n",
    "            return True\n",
    "\n",
    "        queue = [root.left,root.right]\n",
    "        while queue:\n",
    "            left = queue.pop(0)\n",
    "            right = queue.pop(0)\n",
    "            # 两个都为空\n",
    "            if not left and not right:\n",
    "                continue\n",
    "            # 其中一个为空\n",
    "            if not left or not right:\n",
    "                return False\n",
    "            # 两个都不为空\n",
    "            if left.val != right.val:\n",
    "                return False\n",
    "            \n",
    "            # 继续将他们的子树加入队列\n",
    "            \n",
    "            queue.append(left.left)\n",
    "            queue.append(right.right)\n",
    "\n",
    "            queue.append(left.right)\n",
    "            queue.append(right.left)\n",
    "        \n",
    "        return True"
   ]
  },
  {
   "cell_type": "markdown",
   "metadata": {},
   "source": [
    "### Tips\n",
    "* 队列只能头部出，尾部进\n",
    "* 经常可以使用栈和队列将递归转化为迭代"
   ]
  },
  {
   "cell_type": "markdown",
   "metadata": {},
   "source": [
    "## 53.最大子序和\n",
    "<img src=\"images/53.png\" width=\"60%\">"
   ]
  },
  {
   "cell_type": "code",
   "execution_count": 65,
   "metadata": {},
   "outputs": [],
   "source": [
    "# 53.最大子序和\n",
    "# 动态规划\n",
    "\n",
    "class Solution(object):\n",
    "    def maxSubArray(self, nums):\n",
    "        \"\"\"\n",
    "        :type nums: List[int]\n",
    "        :rtype: int\n",
    "        \"\"\"\n",
    "        if len(nums) == 1:\n",
    "            return nums[0]\n",
    "\n",
    "        ans = nums[0]\n",
    "        preSum = 0\n",
    "        \n",
    "        for num in nums:\n",
    "            # 意思是要么把当前数字之前的和继续使用，要么重起炉灶\n",
    "            preSum = max(preSum + num, num)\n",
    "            # 是否更新最大值\n",
    "            ans = max(ans, preSum)\n",
    "\n",
    "        return ans"
   ]
  },
  {
   "cell_type": "markdown",
   "metadata": {},
   "source": [
    "### Tips\n",
    "* 注意动态规划函数的构建"
   ]
  },
  {
   "cell_type": "markdown",
   "metadata": {},
   "source": [
    "## 26.删除排序数组中的重复项\n",
    "<img src=\"images/26.png\" width=\"60%\">"
   ]
  },
  {
   "cell_type": "code",
   "execution_count": 66,
   "metadata": {},
   "outputs": [],
   "source": [
    "# 26.删除排序数组中的重复项\n",
    "\n",
    "class Solution(object):\n",
    "    def removeDuplicates(self, nums):\n",
    "        \"\"\"\n",
    "        :type nums: List[int]\n",
    "        :rtype: int\n",
    "        \"\"\"\n",
    "\n",
    "        p1 = 0\n",
    "        p2 = 1\n",
    "\n",
    "        while p2 < len(nums):\n",
    "            if nums[p1] == nums[p2]:\n",
    "                p2 += 1\n",
    "            else:\n",
    "                p1 += 1\n",
    "                nums[p1] = nums[p2]\n",
    "                \n",
    "        \n",
    "        return p1 + 1"
   ]
  },
  {
   "cell_type": "markdown",
   "metadata": {},
   "source": [
    "### TIPS\n",
    "* 使用双指针\n",
    "* 遇到不同的值，慢指针先移动，然后再赋值"
   ]
  },
  {
   "cell_type": "markdown",
   "metadata": {},
   "source": [
    "## 70.爬楼梯\n",
    "<img src=\"images/70.png\" width=\"60%\">"
   ]
  },
  {
   "cell_type": "code",
   "execution_count": 68,
   "metadata": {},
   "outputs": [],
   "source": [
    "# 70.爬楼梯\n",
    "\n",
    "class Solution(object):\n",
    "    def climbStairs(self, n):\n",
    "        \"\"\"\n",
    "        :type n: int\n",
    "        :rtype: int\n",
    "        \"\"\"\n",
    "        if n== 1:\n",
    "            return 1\n",
    "        if n == 2:\n",
    "            return 2\n",
    "\n",
    "        tmp = [1,2]\n",
    "\n",
    "        for i in range(2,n):\n",
    "            tmp.append(tmp[i - 1] + tmp[i - 2])\n",
    "\n",
    "        return tmp[-1]\n"
   ]
  },
  {
   "cell_type": "markdown",
   "metadata": {},
   "source": [
    "### Tips\n",
    "* 数学解法，`f(n) = f(n - 1) + f(n - 2)`\n",
    "* 还可以用通项公式，或者矩阵快速幂"
   ]
  },
  {
   "cell_type": "markdown",
   "metadata": {},
   "source": [
    "## 1.两数之和\n",
    "<img src=\"images/1.png\" width=\"60%\">"
   ]
  },
  {
   "cell_type": "code",
   "execution_count": 83,
   "metadata": {},
   "outputs": [],
   "source": [
    "# 1.两数之和\n",
    "import collections\n",
    "def twoSum(nums, target):\n",
    "    \"\"\"\n",
    "    :type nums: List[int]\n",
    "    :type target: int\n",
    "    :rtype: List[int]\n",
    "    \"\"\"\n",
    "    record = collections.defaultdict()\n",
    "\n",
    "    for i in range(len(nums)):\n",
    "        num = nums[i]\n",
    "        residual = target - num\n",
    "        try:\n",
    "            return [record[str(num)], i]\n",
    "        except:\n",
    "            record[str(residual)] = i\n",
    "        \n"
   ]
  },
  {
   "cell_type": "markdown",
   "metadata": {},
   "source": [
    "### Tips\n",
    "* 单字典，边循环边查询"
   ]
  },
  {
   "cell_type": "code",
   "execution_count": null,
   "metadata": {},
   "outputs": [],
   "source": []
  }
 ],
 "metadata": {
  "kernelspec": {
   "display_name": "Python 3",
   "language": "python",
   "name": "python3"
  },
  "language_info": {
   "codemirror_mode": {
    "name": "ipython",
    "version": 3
   },
   "file_extension": ".py",
   "mimetype": "text/x-python",
   "name": "python",
   "nbconvert_exporter": "python",
   "pygments_lexer": "ipython3",
   "version": "3.6.10"
  }
 },
 "nbformat": 4,
 "nbformat_minor": 4
}
