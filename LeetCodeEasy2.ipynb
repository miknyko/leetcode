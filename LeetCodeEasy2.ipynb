{
 "cells": [
  {
   "cell_type": "markdown",
   "metadata": {},
   "source": [
    "## 38.外观数列\n",
    "<img src=\"images/38.png\" width=\"60%\">"
   ]
  },
  {
   "cell_type": "code",
   "execution_count": 49,
   "metadata": {},
   "outputs": [],
   "source": [
    "# 38 外观数列\n",
    "import collections\n",
    "def countAndSay(n):\n",
    "    \"\"\"\n",
    "    :type n: int\n",
    "    :rtype: str\n",
    "    \"\"\"\n",
    "    \"\"\n",
    "    if n == 1:\n",
    "        return '1'\n",
    "\n",
    "    cur = '1'\n",
    "    count = 1\n",
    "    \n",
    "    while count < n:\n",
    "        nextl = ''\n",
    "        rec = collections.defaultdict(int)\n",
    "        for i in range(len(cur)):\n",
    "            rec[cur[i]] += 1\n",
    "            try:\n",
    "                if cur[i + 1] != cur[i]:\n",
    "                    nextl += str(list(rec.values())[0])\n",
    "                    nextl += str(list(rec.keys())[0])\n",
    "                    rec = collections.defaultdict(int)\n",
    "            except:\n",
    "                nextl += str(list(rec.values())[0])\n",
    "                nextl += str(list(rec.keys())[0])\n",
    "                \n",
    "        cur = nextl\n",
    "        count += 1\n",
    "        \n",
    "    return cur\n"
   ]
  },
  {
   "cell_type": "markdown",
   "metadata": {},
   "source": [
    "### Tips:\n",
    "* 注意迭代的边界条件\n"
   ]
  },
  {
   "cell_type": "markdown",
   "metadata": {},
   "source": [
    "## 160.相交链表\n",
    "<img src=\"images/160-1.png\" width=\"60%\">\n",
    "<img src=\"images/160-2.png\" width=\"60%\">"
   ]
  },
  {
   "cell_type": "code",
   "execution_count": 55,
   "metadata": {},
   "outputs": [],
   "source": [
    "# 相交链表\n",
    "# Definition for singly-linked list.\n",
    "# class ListNode(object):\n",
    "#     def __init__(self, x):\n",
    "#         self.val = x\n",
    "#         self.next = None\n",
    "\n",
    "class Solution(object):\n",
    "    def getIntersectionNode(self, headA, headB):\n",
    "        \"\"\"\n",
    "        :type head1, head1: ListNode\n",
    "        :rtype: ListNode\n",
    "        \"\"\"\n",
    "        pA = headA\n",
    "        pB = headB\n",
    "\n",
    "        while pA != pB:\n",
    "            pA = pA.next if pA else headB\n",
    "            pB = pB.next if pB else headA\n",
    "\n",
    "        return pA"
   ]
  },
  {
   "cell_type": "markdown",
   "metadata": {},
   "source": [
    "### Tips\n",
    "* 注意超时，尽量简化判断"
   ]
  },
  {
   "cell_type": "markdown",
   "metadata": {},
   "source": [
    "## 371.两整数之和\n",
    "<img src=\"images/371.png\" width=\"60%\">"
   ]
  },
  {
   "cell_type": "code",
   "execution_count": 56,
   "metadata": {},
   "outputs": [],
   "source": [
    "# 371两整数之和\n",
    "\n",
    "class Solution(object):\n",
    "    def getSum(self, a, b):\n",
    "        \"\"\"\n",
    "        :type a: int\n",
    "        :type b: int\n",
    "        :rtype: int\n",
    "        \"\"\"\n",
    "        # 2^32\n",
    "        MASK = 0x100000000\n",
    "        # 整型最大值\n",
    "        MAX_INT = 0x7FFFFFFF\n",
    "        MIN_INT = MAX_INT + 1\n",
    "        while b != 0:\n",
    "            # 计算进位\n",
    "            carry = (a & b) << 1 \n",
    "            # 取余范围限制在 [0, 2^32-1] 范围内\n",
    "            a = (a ^ b) % MASK\n",
    "            b = carry % MASK\n",
    "        return a if a <= MAX_INT else ~((a % MIN_INT) ^ MAX_INT)\n"
   ]
  },
  {
   "cell_type": "markdown",
   "metadata": {},
   "source": [
    "### Tips\n",
    "* `a ^ b`低位运算\n",
    "* `(a & b) << 1 `进位运算\n",
    "* 循环直到无需进位"
   ]
  },
  {
   "cell_type": "markdown",
   "metadata": {},
   "source": [
    "## 155.最小栈\n",
    "<img src=\"images/155.png\" width=\"60%\">"
   ]
  },
  {
   "cell_type": "code",
   "execution_count": 58,
   "metadata": {},
   "outputs": [],
   "source": [
    "# 155.最小栈\n",
    "class MinStack(object):\n",
    "\n",
    "    def __init__(self):\n",
    "        \"\"\"\n",
    "        initialize your data structure here.\n",
    "        \"\"\"\n",
    "        self.stack = []\n",
    "\n",
    "\n",
    "    def push(self, x):\n",
    "        \"\"\"\n",
    "        :type x: int\n",
    "        :rtype: None\n",
    "        \"\"\"\n",
    "        self.stack.append(x)\n",
    "\n",
    "    def pop(self):\n",
    "        \"\"\"\n",
    "        :rtype: None\n",
    "        \"\"\"\n",
    "        self.stack.pop(-1)\n",
    "\n",
    "    def top(self):\n",
    "        \"\"\"\n",
    "        :rtype: int\n",
    "        \"\"\"\n",
    "        return self.stack[-1]\n",
    "\n",
    "    def getMin(self):\n",
    "        \"\"\"\n",
    "        :rtype: int\n",
    "        \"\"\"\n",
    "        return min(self.stack)\n",
    "\n",
    "\n",
    "# Your Minself.stack object will be instantiated and called as such:\n",
    "# obj = Minself.stack()\n",
    "# obj.push(x)\n",
    "# obj.pop()\n",
    "# param_3 = obj.top()\n",
    "# param_4 = obj.getMin()"
   ]
  },
  {
   "cell_type": "markdown",
   "metadata": {},
   "source": [
    "### Tips\n",
    "* 注意栈的定义"
   ]
  },
  {
   "cell_type": "markdown",
   "metadata": {},
   "source": [
    "## 121.买卖股票的最佳时机\n",
    "<img src=\"images/121.png\" width=\"60%\">"
   ]
  },
  {
   "cell_type": "code",
   "execution_count": 59,
   "metadata": {},
   "outputs": [],
   "source": [
    "# 121.买卖股票的最佳时机\n",
    "\n",
    "class Solution(object):\n",
    "    def maxProfit(self, prices):\n",
    "        \"\"\"\n",
    "        :type prices: List[int]\n",
    "        :rtype: int\n",
    "        \"\"\"\n",
    "        if not prices:\n",
    "            return 0\n",
    "\n",
    "        minValue = prices[0]\n",
    "        maxProfit = 0\n",
    "\n",
    "        for price in prices:\n",
    "            minValue = min(price, minValue)\n",
    "            maxProfit = max(maxProfit,price - minValue)\n",
    "\n",
    "        return maxProfit"
   ]
  },
  {
   "cell_type": "markdown",
   "metadata": {},
   "source": [
    "### Tips\n",
    "* 维护两个变量，分别记录历史最低股价和有可能的最高利润\n",
    "* 注意初始条件"
   ]
  },
  {
   "cell_type": "markdown",
   "metadata": {},
   "source": [
    "## 217.存在重复元素\n",
    "<img src=\"images/217.png\" width=\"60%\">"
   ]
  },
  {
   "cell_type": "code",
   "execution_count": 60,
   "metadata": {},
   "outputs": [],
   "source": [
    "# 217.存在重复元素\n",
    "class Solution(object):\n",
    "    def containsDuplicate(self, nums):\n",
    "        \"\"\"\n",
    "        :type nums: List[int]\n",
    "        :rtype: bool\n",
    "        \"\"\"\n",
    "        if not nums:\n",
    "            return False\n",
    "\n",
    "        return len(list(set(nums))) != len(nums)"
   ]
  },
  {
   "cell_type": "markdown",
   "metadata": {},
   "source": [
    "### Tips\n",
    "* 可以使用哈希表，排序，暴力法"
   ]
  },
  {
   "cell_type": "markdown",
   "metadata": {},
   "source": [
    "## 101.对称二叉树\n",
    "<img src=\"images/101.png\" width=\"60%\">"
   ]
  },
  {
   "cell_type": "code",
   "execution_count": 63,
   "metadata": {},
   "outputs": [],
   "source": [
    "# 101.对称二叉树\n",
    "\n",
    "# Definition for a binary tree node.\n",
    "# class TreeNode(object):\n",
    "#     def __init__(self, x):\n",
    "#         self.val = x\n",
    "#         self.left = None\n",
    "#         self.right = None\n",
    "\n",
    "# 递归\n",
    "class Solution(object):\n",
    "    def isSymmetric(self, root):\n",
    "        \"\"\"\n",
    "        :type root: TreeNode\n",
    "        :rtype: bool\n",
    "        \"\"\"\n",
    "        if not root:\n",
    "            return True\n",
    "\n",
    "        def isMirrored(rootA, rootB):\n",
    "            # 双指针都达到None\n",
    "            if not rootA and not rootB:\n",
    "                return True\n",
    "            try:\n",
    "                # 若指针都非NONE\n",
    "                if rootA.val == rootB.val:\n",
    "                    flag = isMirrored(rootA.left, rootB.right) and isMirrored(rootA.right,rootB.left)\n",
    "                    if flag:\n",
    "                        return True\n",
    "            except:\n",
    "                # 其中一个指针为None\n",
    "                return False\n",
    "            \n",
    "            return False\n",
    "        \n",
    "        return isMirrored(root.left, root.right)\n"
   ]
  },
  {
   "cell_type": "markdown",
   "metadata": {},
   "source": [
    "### Tips\n",
    "* 双指针，相反方向，往下递归，判断子树是否对称"
   ]
  },
  {
   "cell_type": "code",
   "execution_count": 64,
   "metadata": {},
   "outputs": [],
   "source": [
    "# 迭代\n",
    "\n",
    "class Solution(object):\n",
    "    def isSymmetric(self, root):\n",
    "        \"\"\"\n",
    "        :type root: TreeNode\n",
    "        :rtype: bool\n",
    "        \"\"\"\n",
    "\n",
    "        if not root:\n",
    "            return True\n",
    "\n",
    "        queue = [root.left,root.right]\n",
    "        while queue:\n",
    "            left = queue.pop(0)\n",
    "            right = queue.pop(0)\n",
    "            # 两个都为空\n",
    "            if not left and not right:\n",
    "                continue\n",
    "            # 其中一个为空\n",
    "            if not left or not right:\n",
    "                return False\n",
    "            # 两个都不为空\n",
    "            if left.val != right.val:\n",
    "                return False\n",
    "            \n",
    "            # 继续将他们的子树加入队列\n",
    "            \n",
    "            queue.append(left.left)\n",
    "            queue.append(right.right)\n",
    "\n",
    "            queue.append(left.right)\n",
    "            queue.append(right.left)\n",
    "        \n",
    "        return True"
   ]
  },
  {
   "cell_type": "markdown",
   "metadata": {},
   "source": [
    "### Tips\n",
    "* 队列只能头部出，尾部进\n",
    "* 经常可以使用栈和队列将递归转化为迭代"
   ]
  },
  {
   "cell_type": "markdown",
   "metadata": {},
   "source": [
    "## 53.最大子序和\n",
    "<img src=\"images/53.png\" width=\"60%\">"
   ]
  },
  {
   "cell_type": "code",
   "execution_count": 65,
   "metadata": {},
   "outputs": [],
   "source": [
    "# 53.最大子序和\n",
    "# 动态规划\n",
    "\n",
    "class Solution(object):\n",
    "    def maxSubArray(self, nums):\n",
    "        \"\"\"\n",
    "        :type nums: List[int]\n",
    "        :rtype: int\n",
    "        \"\"\"\n",
    "        if len(nums) == 1:\n",
    "            return nums[0]\n",
    "\n",
    "        ans = nums[0]\n",
    "        preSum = 0\n",
    "        \n",
    "        for num in nums:\n",
    "            # 意思是要么把当前数字之前的和继续使用，要么重起炉灶\n",
    "            preSum = max(preSum + num, num)\n",
    "            # 是否更新最大值\n",
    "            ans = max(ans, preSum)\n",
    "\n",
    "        return ans"
   ]
  },
  {
   "cell_type": "markdown",
   "metadata": {},
   "source": [
    "### Tips\n",
    "* 注意动态规划函数的构建"
   ]
  },
  {
   "cell_type": "markdown",
   "metadata": {},
   "source": [
    "## 26.删除排序数组中的重复项\n",
    "<img src=\"images/26.png\" width=\"60%\">"
   ]
  },
  {
   "cell_type": "code",
   "execution_count": 66,
   "metadata": {},
   "outputs": [],
   "source": [
    "# 26.删除排序数组中的重复项\n",
    "\n",
    "class Solution(object):\n",
    "    def removeDuplicates(self, nums):\n",
    "        \"\"\"\n",
    "        :type nums: List[int]\n",
    "        :rtype: int\n",
    "        \"\"\"\n",
    "\n",
    "        p1 = 0\n",
    "        p2 = 1\n",
    "\n",
    "        while p2 < len(nums):\n",
    "            if nums[p1] == nums[p2]:\n",
    "                p2 += 1\n",
    "            else:\n",
    "                p1 += 1\n",
    "                nums[p1] = nums[p2]\n",
    "                \n",
    "        \n",
    "        return p1 + 1"
   ]
  },
  {
   "cell_type": "markdown",
   "metadata": {},
   "source": [
    "### TIPS\n",
    "* 使用双指针\n",
    "* 遇到不同的值，慢指针先移动，然后再赋值"
   ]
  },
  {
   "cell_type": "markdown",
   "metadata": {},
   "source": [
    "## 70.爬楼梯\n",
    "<img src=\"images/70.png\" width=\"60%\">"
   ]
  },
  {
   "cell_type": "code",
   "execution_count": 68,
   "metadata": {},
   "outputs": [],
   "source": [
    "# 70.爬楼梯\n",
    "\n",
    "class Solution(object):\n",
    "    def climbStairs(self, n):\n",
    "        \"\"\"\n",
    "        :type n: int\n",
    "        :rtype: int\n",
    "        \"\"\"\n",
    "        if n== 1:\n",
    "            return 1\n",
    "        if n == 2:\n",
    "            return 2\n",
    "\n",
    "        tmp = [1,2]\n",
    "\n",
    "        for i in range(2,n):\n",
    "            tmp.append(tmp[i - 1] + tmp[i - 2])\n",
    "\n",
    "        return tmp[-1]\n"
   ]
  },
  {
   "cell_type": "markdown",
   "metadata": {},
   "source": [
    "### Tips\n",
    "* 数学解法，`f(n) = f(n - 1) + f(n - 2)`\n",
    "* 还可以用通项公式，或者矩阵快速幂"
   ]
  },
  {
   "cell_type": "markdown",
   "metadata": {},
   "source": [
    "## 1.两数之和\n",
    "<img src=\"images/1.png\" width=\"60%\">"
   ]
  },
  {
   "cell_type": "code",
   "execution_count": 83,
   "metadata": {},
   "outputs": [],
   "source": [
    "# 1.两数之和\n",
    "import collections\n",
    "def twoSum(nums, target):\n",
    "    \"\"\"\n",
    "    :type nums: List[int]\n",
    "    :type target: int\n",
    "    :rtype: List[int]\n",
    "    \"\"\"\n",
    "    record = collections.defaultdict()\n",
    "\n",
    "    for i in range(len(nums)):\n",
    "        num = nums[i]\n",
    "        residual = target - num\n",
    "        try:\n",
    "            return [record[str(num)], i]\n",
    "        except:\n",
    "            record[str(residual)] = i\n",
    "        \n"
   ]
  },
  {
   "cell_type": "markdown",
   "metadata": {},
   "source": [
    "### Tips\n",
    "* 单字典，边循环边查询"
   ]
  },
  {
   "cell_type": "markdown",
   "metadata": {},
   "source": [
    "## 141.环形链表\n",
    "<img src=\"images/141.png\" width=\"60%\">"
   ]
  },
  {
   "cell_type": "code",
   "execution_count": 1,
   "metadata": {},
   "outputs": [],
   "source": [
    "# 141.环形链表\n",
    "\n",
    "class Solution(object):\n",
    "    def hasCycle(self, head):\n",
    "        \"\"\"\n",
    "        :type head: ListNode\n",
    "        :rtype: bool\n",
    "        \"\"\"\n",
    "        p1 = head\n",
    "        p2 = head\n",
    "        \n",
    "        while p2:\n",
    "            try:\n",
    "                p1 = p1.next\n",
    "                p2 = p2.next.next\n",
    "            except:\n",
    "                return False\n",
    "            \n",
    "            if p1 == p2:\n",
    "                return True"
   ]
  },
  {
   "cell_type": "markdown",
   "metadata": {},
   "source": [
    "### Tips\n",
    "* 快慢双指针，如果能相遇，说明有环\n",
    "* 也可以使用哈希表储存访问过的节点"
   ]
  },
  {
   "cell_type": "markdown",
   "metadata": {},
   "source": [
    "## 88.合并两个有序数组\n",
    "<img src=\"images/88.png\" width=\"60%\">"
   ]
  },
  {
   "cell_type": "code",
   "execution_count": null,
   "metadata": {},
   "outputs": [],
   "source": [
    "# 88.合并两个有序数组\n",
    "\n",
    "class Solution(object):\n",
    "    def merge(self, nums1, m, nums2, n):\n",
    "        \"\"\"\n",
    "        :type nums1: List[int]\n",
    "        :type m: int\n",
    "        :type nums2: List[int]\n",
    "        :type n: int\n",
    "        :rtype: None Do not return anything, modify nums1 in-place instead.\n",
    "        \"\"\"\n",
    "\n",
    "        p1 = m - 1\n",
    "        p2 = n - 1\n",
    "\n",
    "        for i in range(m + n)[::-1]:\n",
    "            if p2 == -1:\n",
    "                break\n",
    "            \n",
    "            if p1 == -1:\n",
    "                nums1[i] = nums2[p2]\n",
    "                p2 -= 1\n",
    "                continue\n",
    "\n",
    "            if nums1[p1] >= nums2[p2]:\n",
    "                nums1[i] = nums1[p1]\n",
    "                p1 -= 1\n",
    "\n",
    "            else:\n",
    "                nums1[i] = nums2[p2]\n",
    "                p2 -= 1\n",
    "\n",
    "                "
   ]
  },
  {
   "cell_type": "markdown",
   "metadata": {},
   "source": [
    "## tips\n",
    "* 双指针分别指向两个数组，从后往前循环\n",
    "* 注意循环截至条件\n"
   ]
  },
  {
   "cell_type": "markdown",
   "metadata": {},
   "source": [
    "## 326.3的幂\n",
    "<img src=\"images/326.png\" width=\"60%\">"
   ]
  },
  {
   "cell_type": "code",
   "execution_count": 15,
   "metadata": {},
   "outputs": [],
   "source": [
    "# 326. 3的幂\n",
    "\n",
    "class Solution(object):\n",
    "    def isPowerOfThree(self, n):\n",
    "        \"\"\"\n",
    "        :type n: int\n",
    "        :rtype: bool\n",
    "        \"\"\"\n",
    "\n",
    "        while n > 1:\n",
    "            n, ret = divmod(n, 3)\n",
    "            if ret != 0:\n",
    "                return False\n",
    "        \n",
    "        if n == 1:\n",
    "            return True"
   ]
  },
  {
   "cell_type": "markdown",
   "metadata": {},
   "source": [
    "### Tips\n",
    "* 可以使用多种数学方法\n",
    "* 可递归，可迭代"
   ]
  },
  {
   "cell_type": "markdown",
   "metadata": {},
   "source": [
    "## 198. 打家劫舍\n",
    "<img src=\"images/198.png\" width=\"60%\">"
   ]
  },
  {
   "cell_type": "code",
   "execution_count": 18,
   "metadata": {},
   "outputs": [],
   "source": [
    "# 199.打家劫舍\n",
    "\n",
    "\n",
    "class Solution(object):\n",
    "    def rob(self, nums):\n",
    "        \"\"\"\n",
    "        :type nums: List[int]\n",
    "        :rtype: int\n",
    "        \"\"\"\n",
    "\n",
    "        if not nums:\n",
    "            return 0\n",
    "\n",
    "        maxProfit = nums[0]\n",
    "        maxProfitPre1 = nums[0]\n",
    "        maxProfitPre2 = 0\n",
    "\n",
    "        for i in range(1, len(nums)):\n",
    "            maxProfit = max(maxProfitPre2 + nums[i], maxProfitPre1)\n",
    "            maxProfitPre2 = maxProfitPre1\n",
    "            maxProfitPre1 = maxProfit\n",
    "\n",
    "        return maxProfit\n",
    "            "
   ]
  },
  {
   "cell_type": "markdown",
   "metadata": {},
   "source": [
    "### Tips\n",
    "* 动态规划，维护两个变量，递推公式为`fn = max(f(n - 2) + s(i), f(n - 1))`"
   ]
  },
  {
   "cell_type": "markdown",
   "metadata": {},
   "source": [
    "## 125.验证回文串\n",
    "<img src=\"images/125.png\" width=\"60%\">"
   ]
  },
  {
   "cell_type": "code",
   "execution_count": 20,
   "metadata": {},
   "outputs": [],
   "source": [
    "# 125.验证回文串\n",
    "import string\n",
    "class Solution(object):\n",
    "    def isPalindrome(self, s):\n",
    "        \"\"\"\n",
    "        :type s: str\n",
    "        :rtype: bool\n",
    "        \"\"\"\n",
    "        if not s:\n",
    "            return True\n",
    "\n",
    "        punc = string.punctuation + ' '\n",
    "\n",
    "        stripped = [l.lower() for l in s if l not in punc]\n",
    "\n",
    "        for i in range(len(stripped) // 2):\n",
    "            if stripped[i] != stripped[-(i + 1)]:\n",
    "                return False\n",
    "        \n",
    "        return True"
   ]
  },
  {
   "cell_type": "markdown",
   "metadata": {},
   "source": [
    "### Tips:\n",
    "* 使用API去除标点和空格\n",
    "* 也可以在原字符串上操作"
   ]
  },
  {
   "cell_type": "markdown",
   "metadata": {},
   "source": [
    "## 387.字符串中的第一个唯一字符\n",
    "<img src=\"images/387.png\" width=\"60%\">"
   ]
  },
  {
   "cell_type": "code",
   "execution_count": 25,
   "metadata": {},
   "outputs": [],
   "source": [
    "# 387.字符串中的第一个唯一字符\n",
    "class Solution(object):\n",
    "    def firstUniqChar(self, s):\n",
    "        \"\"\"\n",
    "        :type s: str\n",
    "        :rtype: int\n",
    "        \"\"\"\n",
    "        \n",
    "        if not s:\n",
    "            return -1\n",
    "\n",
    "        for i, letter in enumerate(s):\n",
    "            if letter not in record:\n",
    "                record[letter] = [i]\n",
    "            else:\n",
    "                record[letter].append(i)\n",
    "\n",
    "        indexs = []\n",
    "\n",
    "        for i in record.values():\n",
    "            if len(i) == 1:\n",
    "                indexs.append(i[0])\n",
    "\n",
    "        if indexs:\n",
    "            return min(indexs)\n",
    "        else:\n",
    "            return -1\n",
    "                "
   ]
  },
  {
   "cell_type": "markdown",
   "metadata": {},
   "source": [
    "### Tips:\n",
    "* 也可以在字典中保存字母计数，第二次遍历字符串，找出计数为1的字母索引"
   ]
  },
  {
   "cell_type": "markdown",
   "metadata": {},
   "source": [
    "## 61.加1\n",
    "<img src=\"images/66.png\" width=\"60%\">"
   ]
  },
  {
   "cell_type": "code",
   "execution_count": 145,
   "metadata": {},
   "outputs": [],
   "source": [
    "# 61. 加1\n",
    "class Solution(object):\n",
    "    def plusOne(self, digits):\n",
    "        \"\"\"\n",
    "        :type digits: List[int]\n",
    "        :rtype: List[int]\n",
    "        \"\"\"\n",
    "\n",
    "        if len(digits) == 1:\n",
    "            if digits[0] == 9:\n",
    "                digits = [1,0]\n",
    "            else:\n",
    "                digits[0] += 1\n",
    "        \n",
    "        else:\n",
    "            if digits[-1] == 9:\n",
    "                digits = self.plusOne(digits[:-1])\n",
    "                digits.append(0)\n",
    "            else:\n",
    "                digits[-1] += 1\n",
    "        \n",
    "        return digits"
   ]
  },
  {
   "cell_type": "markdown",
   "metadata": {},
   "source": [
    "### Tips\n",
    "* 注意append的用法"
   ]
  },
  {
   "cell_type": "markdown",
   "metadata": {},
   "source": [
    "## 234.回文链表\n",
    "<img src=\"images/234.png\" width=\"60%\">"
   ]
  },
  {
   "cell_type": "code",
   "execution_count": 148,
   "metadata": {},
   "outputs": [],
   "source": [
    "# 234.回文链表\n",
    "\n",
    "# Definition for singly-linked list.\n",
    "# class ListNode(object):\n",
    "#     def __init__(self, x):\n",
    "#         self.val = x\n",
    "#         self.next = None\n",
    "\n",
    "class Solution(object):\n",
    "    def isPalindrome(self, head):\n",
    "        \"\"\"\n",
    "        :type head: ListNode\n",
    "        :rtype: bool\n",
    "        \"\"\"\n",
    "\n",
    "        p = head\n",
    "        vals = []\n",
    "\n",
    "        while p:\n",
    "            vals.append(p.val)\n",
    "            p = p.next\n",
    "\n",
    "        for i in range(len(vals) // 2):\n",
    "            if vals[i] != vals[- (i + 1)]:\n",
    "                return False\n",
    "            \n",
    "        return True\n"
   ]
  },
  {
   "cell_type": "markdown",
   "metadata": {},
   "source": [
    "### Tips\n",
    "* 可以使用快慢指针将链从中砍断，颠倒后半部分，然后比较，再把后半部分颠倒回来"
   ]
  },
  {
   "cell_type": "markdown",
   "metadata": {},
   "source": [
    "## 189.旋转数组\n",
    "<img src=\"images/189.png\" width=\"60%\">"
   ]
  },
  {
   "cell_type": "code",
   "execution_count": 151,
   "metadata": {},
   "outputs": [],
   "source": [
    "# 189.旋转数组\n",
    "# 计数逐次移动法\n",
    "class Solution(object):\n",
    "    def rotate(self, nums, k):\n",
    "        \"\"\"\n",
    "        :type nums: List[int]\n",
    "        :type k: int\n",
    "        :rtype: None Do not return anything, modify nums in-place instead.\n",
    "        \"\"\"\n",
    "\n",
    "        move = k % len(nums)\n",
    "\n",
    "        for i in range(len(nums) - move):\n",
    "            e = nums.pop(0)\n",
    "            nums.append(e)\n",
    "            \n",
    "\n",
    "# 一次性移动到位法\n",
    "class Solution(object):\n",
    "    def rotate(self, nums, k):\n",
    "        \"\"\"\n",
    "        :type nums: List[int]\n",
    "        :type k: int\n",
    "        :rtype: None Do not return anything, modify nums in-place instead.\n",
    "        \"\"\"\n",
    "\n",
    "        move = k % len(nums)\n",
    "\n",
    "        start = 0\n",
    "        count = 0\n",
    "        \n",
    "        # 每个元素最多只需要移动一次，所以一共n次就可以移动结束，最外层循环\n",
    "        while count < len(nums):\n",
    "            tmp = nums[start]\n",
    "            current = (start + move) % len(nums)\n",
    "            # 内层循环，当当前处理，来到小循环出发点的时候，跳出循环\n",
    "            while current != start:\n",
    "                nums[current], tmp = tmp, nums[current]\n",
    "                current = (current + move) % len(nums)\n",
    "                count += 1\n",
    "            # 跳出循环后，一定要做一次置换，把出发位置和缓存互换\n",
    "            nums[current], tmp = tmp, nums[current]\n",
    "            count += 1\n",
    "            start += 1\n"
   ]
  },
  {
   "cell_type": "markdown",
   "metadata": {},
   "source": [
    "### Tips\n",
    "* 可以计算翻转次数和长度的最大公约数n，然后分n轮将某元素一次移到位，中间需要tmp记录被替换的元素\n",
    "* 仔细考虑清楚法2的控制流，是难点"
   ]
  },
  {
   "cell_type": "markdown",
   "metadata": {},
   "source": [
    "## 20.有效的括号\n",
    "<img src=\"images/20.png\" width=\"60%\">"
   ]
  },
  {
   "cell_type": "code",
   "execution_count": 165,
   "metadata": {},
   "outputs": [],
   "source": [
    "# 20.有效的括号\n",
    "\n",
    "class Solution(object):\n",
    "    def isValid(self, s):\n",
    "        \"\"\"\n",
    "        :type s: str\n",
    "        :rtype: bool\n",
    "        \"\"\"\n",
    "        \n",
    "        stack = []\n",
    "        left = {'(':1,'[':2,'{':3}\n",
    "        right = {')':1,']':2,'}':3}\n",
    "\n",
    "        for i in s:\n",
    "            if i in left:\n",
    "                stack.append(left[i])\n",
    "            elif i in right:\n",
    "                if not stack:\n",
    "                    return False\n",
    "                if stack[-1] != right[i]:\n",
    "                    return False\n",
    "                else:\n",
    "                    stack.pop(-1)\n",
    "\n",
    "        if stack:\n",
    "            return False\n",
    "        else:\n",
    "            return True\n"
   ]
  },
  {
   "cell_type": "markdown",
   "metadata": {},
   "source": [
    "## TIPs\n",
    "* 使用栈结构，非常简单"
   ]
  },
  {
   "cell_type": "markdown",
   "metadata": {},
   "source": [
    "## 172.阶乘后的零的数量\n",
    "<img src=\"images/172.png\" width=\"60%\">"
   ]
  },
  {
   "cell_type": "code",
   "execution_count": 173,
   "metadata": {},
   "outputs": [],
   "source": [
    "# 172.阶乘后零的数量\n",
    "\n",
    "# 迭代\n",
    "def trailingZeroes(n):\n",
    "    \"\"\"\n",
    "    :type n: int\n",
    "    :rtype: int\n",
    "    \"\"\"\n",
    "\n",
    "    # 等价于计算隔了多少个5 + 隔了多少25 + 隔了多少125 + ... \n",
    "\n",
    "    res = 0\n",
    "\n",
    "    p = 1\n",
    "\n",
    "    while (n // 5**p) > 0:\n",
    "        res += n // 5**p\n",
    "        p += 1\n",
    "    return res\n",
    "\n",
    "# 优化后的迭代\n",
    "\n",
    "def trailingZeroes(n):\n",
    "    res = 0\n",
    "    \n",
    "    while n > 0:\n",
    "        n = n // 5\n",
    "        res += n\n",
    "        \n",
    "    return res\n",
    "\n",
    "# 递归\n",
    "\n",
    "def trailingZeroes(n):\n",
    "    \n",
    "    if not n:\n",
    "        return 0\n",
    "    \n",
    "    return trailingZeroes(n // 5) + (n // 5)\n"
   ]
  },
  {
   "cell_type": "markdown",
   "metadata": {},
   "source": [
    "### Tips\n",
    "* 这道题为数论题\n",
    "* 有多少0，等价于质因数中有多少10，等价于质因数中有多少2 * 5，等价于质因数中有多少5\n",
    "* 数列n中每隔5个元素产生1个5，每隔25个元素产生2个5,....每隔`5**p`产生p个5\n",
    "* 等价于`f(n) = n//5 + n//25 + .. + n // 5**p`\n",
    "* `f(n) = f(n // 5) + n // 5`"
   ]
  },
  {
   "cell_type": "markdown",
   "metadata": {},
   "source": [
    "## 28.实现 strStr()\n",
    "<img src=\"images/28.png\" width=\"60%\">"
   ]
  },
  {
   "cell_type": "code",
   "execution_count": 175,
   "metadata": {},
   "outputs": [],
   "source": [
    "# 28.实现strStr()\n",
    "\n",
    "class Solution(object):\n",
    "    def strStr(self, haystack, needle):\n",
    "        \"\"\"\n",
    "        :type haystack: str\n",
    "        :type needle: str\n",
    "        :rtype: int\n",
    "        \"\"\"\n",
    "        if not needle and not haystack:\n",
    "            return 0\n",
    "        if not needle:\n",
    "            return 0\n",
    "        if len(haystack) < len(needle):\n",
    "            return -1     \n",
    "        \n",
    "        p1 = 0\n",
    "        p2 = 0\n",
    "\n",
    "        while p1 <= len(haystack) - len(needle):\n",
    "            if haystack[p1] == needle[0]:\n",
    "                stop = p1\n",
    "                while haystack[p1] == needle[p2]:\n",
    "                    p1 += 1\n",
    "                    p2 += 1\n",
    "\n",
    "                    if p2 == len(needle):\n",
    "                        return stop\n",
    "                    \n",
    "                p2 = 0\n",
    "                p1 = stop\n",
    "            p1 += 1\n",
    "\n",
    "        return -1\n",
    "                "
   ]
  },
  {
   "cell_type": "markdown",
   "metadata": {},
   "source": [
    "### Tips\n",
    "* 注意控制流的结束条件以及特殊条件的处理"
   ]
  },
  {
   "cell_type": "code",
   "execution_count": null,
   "metadata": {},
   "outputs": [],
   "source": []
  }
 ],
 "metadata": {
  "kernelspec": {
   "display_name": "Python 3",
   "language": "python",
   "name": "python3"
  },
  "language_info": {
   "codemirror_mode": {
    "name": "ipython",
    "version": 3
   },
   "file_extension": ".py",
   "mimetype": "text/x-python",
   "name": "python",
   "nbconvert_exporter": "python",
   "pygments_lexer": "ipython3",
   "version": "3.6.10"
  }
 },
 "nbformat": 4,
 "nbformat_minor": 4
}
