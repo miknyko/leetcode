{
 "cells": [
  {
   "cell_type": "code",
   "execution_count": 31,
   "metadata": {},
   "outputs": [],
   "source": [
    "\n",
    "def numSquares(n):\n",
    "    \"\"\"\n",
    "    :type n: int\n",
    "    :rtype: int\n",
    "    \"\"\"\n",
    "\n",
    "    def findSmallestSqrt(n):\n",
    "\n",
    "        if not n:\n",
    "            return 0\n",
    "\n",
    "        left = 1\n",
    "        right = n\n",
    "\n",
    "        while left < right:\n",
    "            mid = left + (right - left + 1) // 2\n",
    "            square = mid ** 2\n",
    "            \n",
    "            print((left, mid, right))\n",
    "\n",
    "            if square > n:\n",
    "                right = mid - 1\n",
    "                \n",
    "            elif square == n:\n",
    "                return mid\n",
    "\n",
    "            else:\n",
    "                left = mid \n",
    "\n",
    "        return left\n",
    "\n",
    "    res = []\n",
    "\n",
    "    if not n:\n",
    "        return []\n",
    "\n",
    "    smaller = findSmallestSqrt(n)\n",
    "    print(smaller)\n",
    "    res.append(smaller)\n",
    "    residual = n - (smaller) ** 2\n",
    "\n",
    "    res += numSquares(residual)\n",
    "\n",
    "    return res"
   ]
  },
  {
   "cell_type": "code",
   "execution_count": 40,
   "metadata": {},
   "outputs": [
    {
     "name": "stdout",
     "output_type": "stream",
     "text": [
      "(1, 9, 17)\n",
      "(1, 5, 8)\n",
      "(1, 3, 4)\n",
      "(3, 4, 4)\n",
      "4\n",
      "1\n"
     ]
    },
    {
     "data": {
      "text/plain": [
       "[4, 1]"
      ]
     },
     "execution_count": 40,
     "metadata": {},
     "output_type": "execute_result"
    }
   ],
   "source": [
    "numSquares(17)"
   ]
  },
  {
   "cell_type": "code",
   "execution_count": 44,
   "metadata": {},
   "outputs": [],
   "source": [
    "\n",
    "def numSquares(n):\n",
    "    \"\"\"\n",
    "    :type n: int\n",
    "    :rtype: int\n",
    "    \"\"\"\n",
    "\n",
    "    smallerSqrts = [n ** 2 for n in range(1, int(n ** 0.5) + 1)]\n",
    "    print(smallerSqrts)\n",
    "\n",
    "    level = 0\n",
    "    queue = [n]\n",
    "\n",
    "    while queue:\n",
    "        level += 1\n",
    "        new_queue = set()\n",
    "        for num in queue:\n",
    "            for sqrs in smallerSqrts:\n",
    "\n",
    "                residual = num - sqrs\n",
    "                print(residual)\n",
    "                if residual == 0:\n",
    "                    return level\n",
    "                # 说明这个平方数比这个残差大，直接去检查下一个残差\n",
    "                if residual < 0:\n",
    "                    break\n",
    "                else:\n",
    "                    new_queue.add(residual)\n",
    "\n",
    "        queue = new_queue\n",
    "\n",
    "    return level"
   ]
  },
  {
   "cell_type": "code",
   "execution_count": 45,
   "metadata": {},
   "outputs": [
    {
     "name": "stdout",
     "output_type": "stream",
     "text": [
      "[1, 4, 9]\n",
      "12\n",
      "9\n",
      "4\n",
      "8\n",
      "5\n",
      "0\n"
     ]
    },
    {
     "data": {
      "text/plain": [
       "2"
      ]
     },
     "execution_count": 45,
     "metadata": {},
     "output_type": "execute_result"
    }
   ],
   "source": [
    "numSquares(13)"
   ]
  },
  {
   "cell_type": "code",
   "execution_count": null,
   "metadata": {},
   "outputs": [],
   "source": []
  }
 ],
 "metadata": {
  "kernelspec": {
   "display_name": "Python 3",
   "language": "python",
   "name": "python3"
  },
  "language_info": {
   "codemirror_mode": {
    "name": "ipython",
    "version": 3
   },
   "file_extension": ".py",
   "mimetype": "text/x-python",
   "name": "python",
   "nbconvert_exporter": "python",
   "pygments_lexer": "ipython3",
   "version": "3.6.10"
  }
 },
 "nbformat": 4,
 "nbformat_minor": 4
}
